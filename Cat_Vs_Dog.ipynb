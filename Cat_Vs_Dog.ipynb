{
  "nbformat": 4,
  "nbformat_minor": 0,
  "metadata": {
    "colab": {
      "name": "Cat Vs Dog.ipynb",
      "provenance": [],
      "collapsed_sections": [],
      "include_colab_link": true
    },
    "kernelspec": {
      "name": "python3",
      "display_name": "Python 3"
    },
    "accelerator": "GPU"
  },
  "cells": [
    {
      "cell_type": "markdown",
      "metadata": {
        "id": "view-in-github",
        "colab_type": "text"
      },
      "source": [
        "<a href=\"https://colab.research.google.com/github/jain-abhinav02/Cats-Vs-Dogs/blob/master/Cat_Vs_Dog.ipynb\" target=\"_parent\"><img src=\"https://colab.research.google.com/assets/colab-badge.svg\" alt=\"Open In Colab\"/></a>"
      ]
    },
    {
      "cell_type": "code",
      "metadata": {
        "id": "oAckUIbWC-bJ",
        "colab_type": "code",
        "outputId": "3c331c36-1414-452a-adbe-6f936ad77a7c",
        "colab": {
          "base_uri": "https://localhost:8080/",
          "height": 54
        }
      },
      "source": [
        "# Method 2\n",
        "from google.colab import drive\n",
        "drive.mount('/content/drive')"
      ],
      "execution_count": 0,
      "outputs": [
        {
          "output_type": "stream",
          "text": [
            "Drive already mounted at /content/drive; to attempt to forcibly remount, call drive.mount(\"/content/drive\", force_remount=True).\n"
          ],
          "name": "stdout"
        }
      ]
    },
    {
      "cell_type": "code",
      "metadata": {
        "id": "klDaku0dDBcO",
        "colab_type": "code",
        "outputId": "8a8aea9a-9cfb-4ba1-8187-d712f598d209",
        "colab": {
          "base_uri": "https://localhost:8080/",
          "height": 34
        }
      },
      "source": [
        "from keras.layers import Convolution2D\n",
        "from keras.layers import MaxPooling2D\n",
        "from keras.layers import Flatten\n",
        "from keras.layers import Dense\n",
        "from keras.models import Sequential"
      ],
      "execution_count": 0,
      "outputs": [
        {
          "output_type": "stream",
          "text": [
            "Using TensorFlow backend.\n"
          ],
          "name": "stderr"
        }
      ]
    },
    {
      "cell_type": "code",
      "metadata": {
        "id": "HPe8s36zD3FQ",
        "colab_type": "code",
        "outputId": "7c9c3f14-4515-45f1-a636-517bbc665a88",
        "colab": {
          "base_uri": "https://localhost:8080/",
          "height": 173
        }
      },
      "source": [
        "model = Sequential()\n",
        "model.add(Convolution2D(64,(3,3),activation='relu',input_shape=(128,128,3)))\n",
        "model.add(MaxPooling2D(pool_size=2))\n",
        "model.add(Convolution2D(128,(3,3),activation='relu'))\n",
        "model.add(MaxPooling2D(pool_size=2))\n",
        "model.add(Flatten())\n",
        "model.add(Dense(128,activation='relu'))\n",
        "model.add(Dense(32,activation='relu'))\n",
        "model.add(Dense(1,activation='sigmoid'))"
      ],
      "execution_count": 0,
      "outputs": [
        {
          "output_type": "stream",
          "text": [
            "WARNING:tensorflow:From /usr/local/lib/python3.6/dist-packages/keras/backend/tensorflow_backend.py:66: The name tf.get_default_graph is deprecated. Please use tf.compat.v1.get_default_graph instead.\n",
            "\n",
            "WARNING:tensorflow:From /usr/local/lib/python3.6/dist-packages/keras/backend/tensorflow_backend.py:541: The name tf.placeholder is deprecated. Please use tf.compat.v1.placeholder instead.\n",
            "\n",
            "WARNING:tensorflow:From /usr/local/lib/python3.6/dist-packages/keras/backend/tensorflow_backend.py:4432: The name tf.random_uniform is deprecated. Please use tf.random.uniform instead.\n",
            "\n",
            "WARNING:tensorflow:From /usr/local/lib/python3.6/dist-packages/keras/backend/tensorflow_backend.py:4267: The name tf.nn.max_pool is deprecated. Please use tf.nn.max_pool2d instead.\n",
            "\n"
          ],
          "name": "stdout"
        }
      ]
    },
    {
      "cell_type": "code",
      "metadata": {
        "id": "i7z3VqtyEVIQ",
        "colab_type": "code",
        "outputId": "0d9211c3-9707-45e0-891c-74a444fc9b59",
        "colab": {
          "base_uri": "https://localhost:8080/",
          "height": 156
        }
      },
      "source": [
        "model.compile(optimizer='adam',loss='binary_crossentropy',metrics=['accuracy'])"
      ],
      "execution_count": 0,
      "outputs": [
        {
          "output_type": "stream",
          "text": [
            "WARNING:tensorflow:From /usr/local/lib/python3.6/dist-packages/keras/optimizers.py:793: The name tf.train.Optimizer is deprecated. Please use tf.compat.v1.train.Optimizer instead.\n",
            "\n",
            "WARNING:tensorflow:From /usr/local/lib/python3.6/dist-packages/keras/backend/tensorflow_backend.py:3657: The name tf.log is deprecated. Please use tf.math.log instead.\n",
            "\n",
            "WARNING:tensorflow:From /usr/local/lib/python3.6/dist-packages/tensorflow_core/python/ops/nn_impl.py:183: where (from tensorflow.python.ops.array_ops) is deprecated and will be removed in a future version.\n",
            "Instructions for updating:\n",
            "Use tf.where in 2.0, which has the same broadcast rule as np.where\n"
          ],
          "name": "stdout"
        }
      ]
    },
    {
      "cell_type": "code",
      "metadata": {
        "id": "8odIxGA4EXRW",
        "colab_type": "code",
        "colab": {}
      },
      "source": [
        "from keras.preprocessing.image import ImageDataGenerator "
      ],
      "execution_count": 0,
      "outputs": []
    },
    {
      "cell_type": "code",
      "metadata": {
        "id": "xBh7yVUzEh-a",
        "colab_type": "code",
        "outputId": "9ea3fc06-b24d-4880-9f0b-1e1f07a3a8b8",
        "colab": {
          "base_uri": "https://localhost:8080/",
          "height": 51
        }
      },
      "source": [
        "train_gen = ImageDataGenerator(rescale= 1.0/255,shear_range=0.2,zoom_range=0.2,horizontal_flip=True)\n",
        "test_gen = ImageDataGenerator(rescale=1.0/255)\n",
        "training_set=train_gen.flow_from_directory('drive/My Drive/training_set',target_size=(128,128),batch_size=32,class_mode='binary')\n",
        "test_set=test_gen.flow_from_directory('drive/My Drive/test_set',target_size=(128,128),batch_size=32,class_mode='binary')"
      ],
      "execution_count": 0,
      "outputs": [
        {
          "output_type": "stream",
          "text": [
            "Found 8010 images belonging to 2 classes.\n",
            "Found 2000 images belonging to 2 classes.\n"
          ],
          "name": "stdout"
        }
      ]
    },
    {
      "cell_type": "code",
      "metadata": {
        "id": "kDlJ5Qp3E4aA",
        "colab_type": "code",
        "outputId": "08d2cb7e-83d5-4ce1-8ac8-b9f1b923ccdb",
        "colab": {
          "base_uri": "https://localhost:8080/",
          "height": 666
        }
      },
      "source": [
        "model.fit_generator(training_set,epochs=10,validation_data=test_set)"
      ],
      "execution_count": 0,
      "outputs": [
        {
          "output_type": "stream",
          "text": [
            "WARNING:tensorflow:From /usr/local/lib/python3.6/dist-packages/keras/backend/tensorflow_backend.py:1033: The name tf.assign_add is deprecated. Please use tf.compat.v1.assign_add instead.\n",
            "\n",
            "WARNING:tensorflow:From /usr/local/lib/python3.6/dist-packages/keras/backend/tensorflow_backend.py:1020: The name tf.assign is deprecated. Please use tf.compat.v1.assign instead.\n",
            "\n",
            "WARNING:tensorflow:From /usr/local/lib/python3.6/dist-packages/keras/backend/tensorflow_backend.py:3005: The name tf.Session is deprecated. Please use tf.compat.v1.Session instead.\n",
            "\n",
            "Epoch 1/10\n",
            "WARNING:tensorflow:From /usr/local/lib/python3.6/dist-packages/keras/backend/tensorflow_backend.py:190: The name tf.get_default_session is deprecated. Please use tf.compat.v1.get_default_session instead.\n",
            "\n",
            "WARNING:tensorflow:From /usr/local/lib/python3.6/dist-packages/keras/backend/tensorflow_backend.py:197: The name tf.ConfigProto is deprecated. Please use tf.compat.v1.ConfigProto instead.\n",
            "\n",
            "WARNING:tensorflow:From /usr/local/lib/python3.6/dist-packages/keras/backend/tensorflow_backend.py:207: The name tf.global_variables is deprecated. Please use tf.compat.v1.global_variables instead.\n",
            "\n",
            "WARNING:tensorflow:From /usr/local/lib/python3.6/dist-packages/keras/backend/tensorflow_backend.py:216: The name tf.is_variable_initialized is deprecated. Please use tf.compat.v1.is_variable_initialized instead.\n",
            "\n",
            "WARNING:tensorflow:From /usr/local/lib/python3.6/dist-packages/keras/backend/tensorflow_backend.py:223: The name tf.variables_initializer is deprecated. Please use tf.compat.v1.variables_initializer instead.\n",
            "\n",
            "251/251 [==============================] - 1074s 4s/step - loss: 0.6729 - acc: 0.5969 - val_loss: 0.6382 - val_acc: 0.6360\n",
            "Epoch 2/10\n",
            "251/251 [==============================] - 74s 294ms/step - loss: 0.5972 - acc: 0.6827 - val_loss: 0.5346 - val_acc: 0.7285\n",
            "Epoch 3/10\n",
            "251/251 [==============================] - 75s 298ms/step - loss: 0.5446 - acc: 0.7210 - val_loss: 0.5721 - val_acc: 0.7015\n",
            "Epoch 4/10\n",
            "251/251 [==============================] - 74s 294ms/step - loss: 0.5051 - acc: 0.7517 - val_loss: 0.4883 - val_acc: 0.7750\n",
            "Epoch 5/10\n",
            "251/251 [==============================] - 75s 297ms/step - loss: 0.4657 - acc: 0.7825 - val_loss: 0.4973 - val_acc: 0.7700\n",
            "Epoch 6/10\n",
            "251/251 [==============================] - 77s 306ms/step - loss: 0.4444 - acc: 0.7934 - val_loss: 0.4476 - val_acc: 0.7815\n",
            "Epoch 7/10\n",
            "251/251 [==============================] - 78s 309ms/step - loss: 0.4291 - acc: 0.8006 - val_loss: 0.4614 - val_acc: 0.7945\n",
            "Epoch 8/10\n",
            "251/251 [==============================] - 76s 301ms/step - loss: 0.4126 - acc: 0.8022 - val_loss: 0.4614 - val_acc: 0.7900\n",
            "Epoch 9/10\n",
            "251/251 [==============================] - 77s 308ms/step - loss: 0.3816 - acc: 0.8258 - val_loss: 0.4362 - val_acc: 0.8060\n",
            "Epoch 10/10\n",
            "251/251 [==============================] - 76s 305ms/step - loss: 0.3536 - acc: 0.8393 - val_loss: 0.4499 - val_acc: 0.8155\n"
          ],
          "name": "stdout"
        },
        {
          "output_type": "execute_result",
          "data": {
            "text/plain": [
              "<keras.callbacks.History at 0x7f401db1d860>"
            ]
          },
          "metadata": {
            "tags": []
          },
          "execution_count": 7
        }
      ]
    },
    {
      "cell_type": "code",
      "metadata": {
        "id": "bm29-tKnVJrz",
        "colab_type": "code",
        "colab": {}
      },
      "source": [
        ""
      ],
      "execution_count": 0,
      "outputs": []
    }
  ]
}